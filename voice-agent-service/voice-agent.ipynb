{
 "cells": [
  {
   "cell_type": "markdown",
   "id": "fe917bd0",
   "metadata": {},
   "source": [
    "Login huggingface"
   ]
  },
  {
   "cell_type": "code",
   "execution_count": 6,
   "id": "02fa8573",
   "metadata": {},
   "outputs": [],
   "source": [
    "#!pip install python-dotenv huggingface_hub datasets matplotlib transformers scikit-learn numpy gensim"
   ]
  },
  {
   "cell_type": "code",
   "execution_count": 1,
   "id": "0090fd8c",
   "metadata": {},
   "outputs": [
    {
     "name": "stdout",
     "output_type": "stream",
     "text": [
      "File not found - con\n",
      "Requirement already satisfied: dotenv in .\\.venv\\lib\\site-packages (0.9.9)\n",
      "Requirement already satisfied: python-dotenv in .\\.venv\\lib\\site-packages (from dotenv) (1.1.1)\n",
      "Note: you may need to restart the kernel to use updated packages.\n"
     ]
    },
    {
     "name": "stderr",
     "output_type": "stream",
     "text": [
      "\n",
      "[notice] A new release of pip is available: 25.1.1 -> 25.2\n",
      "[notice] To update, run: python.exe -m pip install --upgrade pip\n",
      "c:\\_dev\\agentic-ai\\voice-agent-service\\.venv\\Lib\\site-packages\\tqdm\\auto.py:21: TqdmWarning: IProgress not found. Please update jupyter and ipywidgets. See https://ipywidgets.readthedocs.io/en/stable/user_install.html\n",
      "  from .autonotebook import tqdm as notebook_tqdm\n",
      "Note: Environment variable`HF_TOKEN` is set and is the current active token independently from the token you've just configured.\n"
     ]
    }
   ],
   "source": [
    "# %pip install datasets\n",
    "%pip install dotenv\n",
    "import os\n",
    "from dotenv import load_dotenv\n",
    "from huggingface_hub import login\n",
    "from datasets import load_dataset\n",
    "# environment\n",
    "load_dotenv(override=True)\n",
    "\n",
    "# Get the HF token from environment variables\n",
    "hf_token = os.getenv('HF_TOKEN')\n",
    "login(hf_token,add_to_git_credential=True);"
   ]
  },
  {
   "cell_type": "code",
   "execution_count": 2,
   "id": "3a6ee063",
   "metadata": {},
   "outputs": [
    {
     "name": "stderr",
     "output_type": "stream",
     "text": [
      "C:\\Users\\pqhung1\\AppData\\Local\\Programs\\Python\\Python313\\Lib\\importlib\\__init__.py:88: UserWarning: A NumPy version >=1.23.5 and <2.3.0 is required for this version of SciPy (detected version 2.3.2)\n",
      "  return _bootstrap._gcd_import(name[level:], package, level)\n"
     ]
    }
   ],
   "source": [
    "rawdata = load_dataset(\"cogsci13/Amazon-Reviews-2023-Books-Meta\", split=\"full\")"
   ]
  },
  {
   "cell_type": "code",
   "execution_count": 3,
   "id": "24c0395b",
   "metadata": {},
   "outputs": [
    {
     "name": "stdout",
     "output_type": "stream",
     "text": [
      "{'main_category': 'Books', 'title': 'Chaucer', 'average_rating': 4.5, 'rating_number': 29, 'features': [], 'description': [], 'price': '8.23', 'images': {'hi_res': [None], 'large': ['https://m.media-amazon.com/images/I/41X61VPJYKL._SX334_BO1,204,203,200_.jpg'], 'thumb': [None], 'variant': ['MAIN']}, 'videos': {'title': [], 'url': [], 'user_id': []}, 'store': 'Peter Ackroyd (Author)', 'categories': ['Books', 'Literature & Fiction', 'History & Criticism'], 'details': '{\"Publisher\": \"Chatto & Windus; First Edition (January 1, 2004)\", \"Language\": \"English\", \"Hardcover\": \"196 pages\", \"ISBN 10\": \"0701169850\", \"ISBN 13\": \"978-0701169855\", \"Item Weight\": \"10.1 ounces\", \"Dimensions\": \"5.39 x 0.71 x 7.48 inches\"}', 'parent_asin': '0701169850', 'bought_together': None, 'subtitle': 'Hardcover – Import, January 1, 2004', 'author': \"{'avatar': 'https://m.media-amazon.com/images/I/21Je2zja9pL._SY600_.jpg', 'name': 'Peter Ackroyd', 'about': ['Peter Ackroyd, (born 5 October 1949) is an English biographer, novelist and critic with a particular interest in the history and culture of London. For his novels about English history and culture and his biographies of, among others, William Blake, Charles Dickens, T. S. Eliot and Sir Thomas More, he won the Somerset Maugham Award and two Whitbread Awards. He is noted for the volume of work he has produced, the range of styles therein, his skill at assuming different voices and the depth of his research.', 'He was elected a fellow of the Royal Society of Literature in 1984 and appointed a Commander of the Order of the British Empire in 2003.', 'Bio from Wikipedia, the free encyclopedia.']}\"}\n"
     ]
    }
   ],
   "source": [
    "print(rawdata[0])"
   ]
  }
 ],
 "metadata": {
  "kernelspec": {
   "display_name": ".venv",
   "language": "python",
   "name": "python3"
  },
  "language_info": {
   "codemirror_mode": {
    "name": "ipython",
    "version": 3
   },
   "file_extension": ".py",
   "mimetype": "text/x-python",
   "name": "python",
   "nbconvert_exporter": "python",
   "pygments_lexer": "ipython3",
   "version": "3.13.5"
  }
 },
 "nbformat": 4,
 "nbformat_minor": 5
}
